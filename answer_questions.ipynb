{
 "cells": [
  {
   "cell_type": "code",
   "execution_count": 1,
   "metadata": {},
   "outputs": [
    {
     "name": "stdout",
     "output_type": "stream",
     "text": [
      "22/09/10 20:10:59 WARN Utils: Your hostname, sasadi resolves to a loopback address: 127.0.1.1; using 10.188.67.52 instead (on interface wlo1)\n",
      "22/09/10 20:10:59 WARN Utils: Set SPARK_LOCAL_IP if you need to bind to another address\n"
     ]
    },
    {
     "name": "stderr",
     "output_type": "stream",
     "text": [
      "Setting default log level to \"WARN\".\n",
      "To adjust logging level use sc.setLogLevel(newLevel). For SparkR, use setLogLevel(newLevel).\n"
     ]
    },
    {
     "name": "stdout",
     "output_type": "stream",
     "text": [
      "22/09/10 20:10:59 WARN NativeCodeLoader: Unable to load native-hadoop library for your platform... using builtin-java classes where applicable\n",
      "22/09/10 20:11:00 WARN Utils: Service 'SparkUI' could not bind on port 4040. Attempting port 4041.\n"
     ]
    }
   ],
   "source": [
    "from src.extract import *\n",
    "from src.transform import *\n",
    "from FlightRadar24.api import FlightRadar24API"
   ]
  },
  {
   "cell_type": "code",
   "execution_count": 2,
   "metadata": {},
   "outputs": [],
   "source": [
    "not_cleaned_data = '/home/sadi/Bureau/exaltKata/spark_pipeline/data/without_cleaning'\n",
    "cleaned_data = '/home/sadi/Bureau/exaltKata/spark_pipeline/data/clean'\n",
    "flights_path = os.path.join(not_cleaned_data, 'flights.json')\n",
    "airports_path = os.path.join(cleaned_data, 'airports.json')\n",
    "airlines_path = os.path.join(cleaned_data, 'airlines.json')"
   ]
  },
  {
   "cell_type": "code",
   "execution_count": 3,
   "metadata": {},
   "outputs": [
    {
     "name": "stderr",
     "output_type": "stream",
     "text": [
      "100%|██████████| 1500/1500 [17:01<00:00,  1.47it/s]\n"
     ]
    }
   ],
   "source": [
    "fr_api = FlightRadar24API()\n",
    "flights = fr_api.get_flights()\n",
    "#get flights\n",
    "flight_details = get_flight_details(flights, fr_api)\n",
    "save_original_file(flight_details, flights_path)"
   ]
  },
  {
   "cell_type": "code",
   "execution_count": 4,
   "metadata": {},
   "outputs": [],
   "source": [
    "#get airports\n",
    "airports = fr_api.get_airports()\n",
    "save_original_file(airports, airports_path)"
   ]
  },
  {
   "cell_type": "code",
   "execution_count": 5,
   "metadata": {},
   "outputs": [],
   "source": [
    "#get airlines\n",
    "airlines = fr_api.get_airlines()\n",
    "save_original_file(airlines, airlines_path)"
   ]
  },
  {
   "cell_type": "code",
   "execution_count": null,
   "metadata": {},
   "outputs": [],
   "source": []
  },
  {
   "cell_type": "markdown",
   "metadata": {},
   "source": [
    "### Transform flights DataFrame\n"
   ]
  },
  {
   "cell_type": "code",
   "execution_count": 3,
   "metadata": {},
   "outputs": [
    {
     "name": "stderr",
     "output_type": "stream",
     "text": [
      "                                                                                \r"
     ]
    }
   ],
   "source": [
    "flights_df = load_original_data(flights_path)"
   ]
  },
  {
   "cell_type": "code",
   "execution_count": 4,
   "metadata": {},
   "outputs": [],
   "source": [
    "flights_clean_df = transform_flights_df(flights_df)"
   ]
  },
  {
   "cell_type": "code",
   "execution_count": 9,
   "metadata": {},
   "outputs": [
    {
     "name": "stdout",
     "output_type": "stream",
     "text": [
      "root\n",
      " |-- aircraft_age: string (nullable = true)\n",
      " |-- aircraft_code: string (nullable = true)\n",
      " |-- aircraft_country_id: string (nullable = true)\n",
      " |-- aircraft_images: string (nullable = true)\n",
      " |-- aircraft_model: string (nullable = true)\n",
      " |-- airline_iata: string (nullable = true)\n",
      " |-- airline_icao: string (nullable = true)\n",
      " |-- airline_name: string (nullable = true)\n",
      " |-- airline_short_name: string (nullable = true)\n",
      " |-- altitude: long (nullable = true)\n",
      " |-- callsign: string (nullable = true)\n",
      " |-- destination_airport_altitude: string (nullable = true)\n",
      " |-- destination_airport_baggage: string (nullable = true)\n",
      " |-- destination_airport_country_code: string (nullable = true)\n",
      " |-- destination_airport_country_name: string (nullable = true)\n",
      " |-- destination_airport_gate: string (nullable = true)\n",
      " |-- destination_airport_iata: string (nullable = true)\n",
      " |-- destination_airport_icao: string (nullable = true)\n",
      " |-- destination_airport_latitude: string (nullable = true)\n",
      " |-- destination_airport_longitude: string (nullable = true)\n",
      " |-- destination_airport_name: string (nullable = true)\n",
      " |-- destination_airport_terminal: string (nullable = true)\n",
      " |-- destination_airport_timezone_abbr: string (nullable = true)\n",
      " |-- destination_airport_timezone_abbr_name: string (nullable = true)\n",
      " |-- destination_airport_timezone_name: string (nullable = true)\n",
      " |-- destination_airport_timezone_offset: string (nullable = true)\n",
      " |-- destination_airport_timezone_offsethours: string (nullable = true)\n",
      " |-- destination_airport_visible: string (nullable = true)\n",
      " |-- destination_airport_website: string (nullable = true)\n",
      " |-- ground_speed: long (nullable = true)\n",
      " |-- heading: long (nullable = true)\n",
      " |-- icao_24bit: string (nullable = true)\n",
      " |-- id: string (nullable = true)\n",
      " |-- latitude: double (nullable = true)\n",
      " |-- longitude: double (nullable = true)\n",
      " |-- number: string (nullable = true)\n",
      " |-- on_ground: long (nullable = true)\n",
      " |-- origin_airport_altitude: string (nullable = true)\n",
      " |-- origin_airport_baggage: string (nullable = true)\n",
      " |-- origin_airport_country_code: string (nullable = true)\n",
      " |-- origin_airport_country_name: string (nullable = true)\n",
      " |-- origin_airport_gate: string (nullable = true)\n",
      " |-- origin_airport_iata: string (nullable = true)\n",
      " |-- origin_airport_icao: string (nullable = true)\n",
      " |-- origin_airport_latitude: string (nullable = true)\n",
      " |-- origin_airport_longitude: string (nullable = true)\n",
      " |-- origin_airport_name: string (nullable = true)\n",
      " |-- origin_airport_terminal: string (nullable = true)\n",
      " |-- origin_airport_timezone_abbr: string (nullable = true)\n",
      " |-- origin_airport_timezone_abbr_name: string (nullable = true)\n",
      " |-- origin_airport_timezone_name: string (nullable = true)\n",
      " |-- origin_airport_timezone_offset: string (nullable = true)\n",
      " |-- origin_airport_timezone_offsethours: string (nullable = true)\n",
      " |-- origin_airport_visible: string (nullable = true)\n",
      " |-- origin_airport_website: string (nullable = true)\n",
      " |-- registration: string (nullable = true)\n",
      " |-- squawk: string (nullable = true)\n",
      " |-- status_icon: string (nullable = true)\n",
      " |-- status_text: string (nullable = true)\n",
      " |-- time: long (nullable = true)\n",
      " |-- time_details_estimated_arrival: long (nullable = true)\n",
      " |-- time_details_estimated_departure: string (nullable = true)\n",
      " |-- time_details_historical_delay: string (nullable = true)\n",
      " |-- time_details_historical_flighttime: string (nullable = true)\n",
      " |-- time_details_other_eta: long (nullable = true)\n",
      " |-- time_details_other_updated: long (nullable = true)\n",
      " |-- time_details_real_arrival: long (nullable = true)\n",
      " |-- time_details_real_departure: long (nullable = true)\n",
      " |-- time_details_scheduled_arrival: long (nullable = true)\n",
      " |-- time_details_scheduled_departure: long (nullable = true)\n",
      " |-- vertical_speed: long (nullable = true)\n",
      " |-- sameCountry: boolean (nullable = false)\n",
      "\n"
     ]
    }
   ],
   "source": [
    "flights_clean_df.printSchema()"
   ]
  },
  {
   "cell_type": "markdown",
   "metadata": {},
   "source": [
    "##### compagny most active flights in the world"
   ]
  },
  {
   "cell_type": "code",
   "execution_count": 6,
   "metadata": {},
   "outputs": [
    {
     "name": "stderr",
     "output_type": "stream",
     "text": [
      "[Stage 7:>                                                          (0 + 1) / 1]\r"
     ]
    },
    {
     "name": "stdout",
     "output_type": "stream",
     "text": [
      "+------------------+-----------+-----+\n",
      "|airline_short_name|status_icon|count|\n",
      "+------------------+-----------+-----+\n",
      "|   Delta Air Lines|      green|   83|\n",
      "|   United Airlines|      green|   74|\n",
      "| American Airlines|      green|   74|\n",
      "|          Emirates|      green|   35|\n",
      "|        Air France|      green|   31|\n",
      "+------------------+-----------+-----+\n",
      "only showing top 5 rows\n",
      "\n"
     ]
    },
    {
     "name": "stderr",
     "output_type": "stream",
     "text": [
      "                                                                                \r"
     ]
    }
   ],
   "source": [
    "flights_clean_df.select('airline_short_name', 'status_icon')\\\n",
    "    .filter(F.col(\"status_icon\") == \"green\")\\\n",
    "    .groupBy(F.col('airline_short_name'), F.col('status_icon'))\\\n",
    "    .count()\\\n",
    "    .orderBy(F.col('count').desc())\\\n",
    "    .show(5)"
   ]
  },
  {
   "cell_type": "markdown",
   "metadata": {},
   "source": [
    "##### companies with most regional active flights"
   ]
  },
  {
   "cell_type": "code",
   "execution_count": 31,
   "metadata": {},
   "outputs": [
    {
     "name": "stdout",
     "output_type": "stream",
     "text": [
      "+---------------+--------------------+-----+\n",
      "|airport_country|  airline_short_name|count|\n",
      "+---------------+--------------------+-----+\n",
      "|      Australia|             Jetstar|    1|\n",
      "|         Canada|             WestJet|    2|\n",
      "|         Canada|          Air Canada|    5|\n",
      "|         Russia|            NordStar|    1|\n",
      "|         Russia|            Aeroflot|    1|\n",
      "|         Russia|       Ural Airlines|    1|\n",
      "|         Russia|         S7 Airlines|    1|\n",
      "|         Russia|             Rossiya|    3|\n",
      "|  United States|     Delta Air Lines|   18|\n",
      "|  United States|           Atlas Air|    1|\n",
      "|  United States|                 N/A|    1|\n",
      "|  United States|               FedEx|   17|\n",
      "|  United States|     Spirit Airlines|    4|\n",
      "|  United States|Western Global Ai...|    1|\n",
      "|  United States|     United Airlines|   13|\n",
      "|  United States|Amerijet Internat...|    1|\n",
      "|  United States|     JetBlue Airways|   14|\n",
      "|  United States|  Southwest Airlines|    2|\n",
      "|  United States|      Breeze Airways|    1|\n",
      "|  United States|     Alaska Airlines|    9|\n",
      "+---------------+--------------------+-----+\n",
      "only showing top 20 rows\n",
      "\n"
     ]
    }
   ],
   "source": [
    "\n",
    "flights_clean_df.select('airline_short_name', 'status_icon',F.col('destination_airport_country_name').alias('airport_country'), 'sameCountry')\\\n",
    "    .filter((F.col('status_icon') == 'green') & F.col('sameCountry') == True)\\\n",
    "    .groupBy('airport_country', 'airline_short_name')\\\n",
    "    .count()\\\n",
    "    .orderBy(F.col('airport_country'))\\\n",
    "    .show()"
   ]
  },
  {
   "cell_type": "code",
   "execution_count": null,
   "metadata": {},
   "outputs": [],
   "source": []
  },
  {
   "cell_type": "code",
   "execution_count": null,
   "metadata": {},
   "outputs": [],
   "source": []
  }
 ],
 "metadata": {
  "kernelspec": {
   "display_name": "Python 3.9.12 ('exaltKata': venv)",
   "language": "python",
   "name": "python3"
  },
  "language_info": {
   "codemirror_mode": {
    "name": "ipython",
    "version": 3
   },
   "file_extension": ".py",
   "mimetype": "text/x-python",
   "name": "python",
   "nbconvert_exporter": "python",
   "pygments_lexer": "ipython3",
   "version": "3.9.12"
  },
  "orig_nbformat": 4,
  "vscode": {
   "interpreter": {
    "hash": "b98b0acb5a2ecc8dcacf4c1b05e7801e4520dc6391994e5e757bc5215b10c77d"
   }
  }
 },
 "nbformat": 4,
 "nbformat_minor": 2
}
