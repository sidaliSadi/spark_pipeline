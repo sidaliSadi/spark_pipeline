{
 "cells": [
  {
   "cell_type": "code",
   "execution_count": null,
   "metadata": {},
   "outputs": [],
   "source": [
    "from src.extract import *\n",
    "from src.transform import *\n",
    "from FlightRadar24.api import FlightRadar24API"
   ]
  },
  {
   "cell_type": "code",
   "execution_count": null,
   "metadata": {},
   "outputs": [],
   "source": []
  }
 ],
 "metadata": {
  "kernelspec": {
   "display_name": "Python 3.9.12 ('exaltKata': venv)",
   "language": "python",
   "name": "python3"
  },
  "language_info": {
   "name": "python",
   "version": "3.9.12"
  },
  "orig_nbformat": 4,
  "vscode": {
   "interpreter": {
    "hash": "b98b0acb5a2ecc8dcacf4c1b05e7801e4520dc6391994e5e757bc5215b10c77d"
   }
  }
 },
 "nbformat": 4,
 "nbformat_minor": 2
}
