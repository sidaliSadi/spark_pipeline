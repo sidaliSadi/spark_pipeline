{
 "cells": [
  {
   "cell_type": "code",
   "execution_count": null,
   "metadata": {},
   "outputs": [],
   "source": [
    "from src.extract import *\n",
    "from src.transform import *\n",
    "from FlightRadar24.api import FlightRadar24API\n",
    "from pyspark.sql import Window"
   ]
  },
  {
   "cell_type": "code",
   "execution_count": null,
   "metadata": {},
   "outputs": [],
   "source": [
    "not_cleaned_data = '/home/sadi/Bureau/exaltKata/spark_pipeline/data/without_cleaning'\n",
    "cleaned_data = '/home/sadi/Bureau/exaltKata/spark_pipeline/data/clean'\n",
    "flights_path = os.path.join(not_cleaned_data, 'flights.json')\n",
    "airports_path = os.path.join(cleaned_data, 'airports.json')\n",
    "airlines_path = os.path.join(cleaned_data, 'airlines.json')"
   ]
  },
  {
   "cell_type": "code",
   "execution_count": null,
   "metadata": {},
   "outputs": [],
   "source": [
    "fr_api = FlightRadar24API()\n",
    "flights = fr_api.get_flights()\n",
    "#get flights\n",
    "flight_details = get_flight_details(flights, fr_api)\n",
    "save_original_file(flight_details, flights_path)"
   ]
  },
  {
   "cell_type": "code",
   "execution_count": null,
   "metadata": {},
   "outputs": [],
   "source": [
    "#get airports\n",
    "airports = fr_api.get_airports()\n",
    "save_original_file(airports, airports_path)"
   ]
  },
  {
   "cell_type": "code",
   "execution_count": null,
   "metadata": {},
   "outputs": [],
   "source": [
    "#get airlines\n",
    "airlines = fr_api.get_airlines()\n",
    "save_original_file(airlines, airlines_path)"
   ]
  },
  {
   "cell_type": "code",
   "execution_count": null,
   "metadata": {},
   "outputs": [],
   "source": []
  },
  {
   "cell_type": "markdown",
   "metadata": {},
   "source": [
    "### Transform flights DataFrame\n"
   ]
  },
  {
   "cell_type": "code",
   "execution_count": null,
   "metadata": {},
   "outputs": [],
   "source": [
    "flights_df = load_original_data(flights_path)"
   ]
  },
  {
   "cell_type": "code",
   "execution_count": null,
   "metadata": {},
   "outputs": [],
   "source": [
    "flights_clean_df = transform_flights_df(flights_df)"
   ]
  },
  {
   "cell_type": "code",
   "execution_count": null,
   "metadata": {},
   "outputs": [],
   "source": [
    "flights_clean_df.printSchema()"
   ]
  },
  {
   "cell_type": "markdown",
   "metadata": {},
   "source": [
    "##### compagny most active flights in the world"
   ]
  },
  {
   "cell_type": "code",
   "execution_count": null,
   "metadata": {},
   "outputs": [],
   "source": [
    "flights_clean_df.select('airline_short_name', 'status_icon')\\\n",
    "    .filter(F.col(\"status_icon\") == \"green\")\\\n",
    "    .groupBy(F.col('airline_short_name'), F.col('status_icon'))\\\n",
    "    .count()\\\n",
    "    .orderBy(F.col('count').desc())\\\n",
    "    .show(5)"
   ]
  },
  {
   "cell_type": "markdown",
   "metadata": {},
   "source": [
    "##### companies with most regional active flights"
   ]
  },
  {
   "cell_type": "code",
   "execution_count": null,
   "metadata": {},
   "outputs": [],
   "source": [
    "w = Window.partitionBy('airport_country').orderBy(col('count').desc())\n",
    "\n",
    "flights_clean_df.filter((F.col('status_icon') == 'green') & F.col('sameCountry') == True)\\\n",
    "  .select('airline_short_name', 'status_icon',F.col('destination_airport_country_name').alias('airport_country'), 'sameCountry')\\\n",
    "  .groupBy('airport_country', 'airline_short_name')\\\n",
    "  .count()\\\n",
    "  .withColumn( 'max', F.row_number().over(w))\\\n",
    "  .filter(col(\"max\") == 1).drop(\"max\") \\\n",
    "  .show()"
   ]
  },
  {
   "cell_type": "code",
   "execution_count": null,
   "metadata": {},
   "outputs": [],
   "source": []
  },
  {
   "cell_type": "markdown",
   "metadata": {},
   "source": [
    "#### Active flight longest route"
   ]
  },
  {
   "cell_type": "code",
   "execution_count": null,
   "metadata": {},
   "outputs": [],
   "source": [
    "\n",
    "flights_clean_df \\\n",
    "    .filter(F.col(\"status_icon\") == \"green\")\\\n",
    "    .select('aircraft_code', 'airline_short_name', 'distance - km')\\\n",
    "    .distinct()\\\n",
    "    .orderBy(col('distance - km').desc())\\\n",
    "    .show(1)"
   ]
  },
  {
   "cell_type": "markdown",
   "metadata": {},
   "source": [
    "#### Avg distance by country"
   ]
  },
  {
   "cell_type": "code",
   "execution_count": null,
   "metadata": {},
   "outputs": [],
   "source": [
    "flights_clean_df.select('aircraft_code', 'airline_short_name', 'origin_airport_country_name', 'distance - km')\\\n",
    "    .groupBy('origin_airport_country_name')\\\n",
    "    .avg('distance - km')\\\n",
    "    .show()"
   ]
  },
  {
   "cell_type": "markdown",
   "metadata": {},
   "source": [
    "##### Airplane model by country"
   ]
  },
  {
   "cell_type": "code",
   "execution_count": null,
   "metadata": {},
   "outputs": [],
   "source": [
    "w = Window.partitionBy('origin_airport_country_name').orderBy(col('count').desc())\n",
    "\n",
    "flights_clean_df.select(col('origin_airport_country_name'), 'aircraft_model')\\\n",
    "    .groupBy('origin_airport_country_name', 'aircraft_model')\\\n",
    "    .count()\\\n",
    "    .withColumn('r_number', F.row_number().over(w))\\\n",
    "    .filter(col('r_number') == 1)\\\n",
    "    .drop(col('r_number'))\\\n",
    "    .show()\n"
   ]
  },
  {
   "cell_type": "markdown",
   "metadata": {},
   "source": [
    "##### By country, most populaire airport destination"
   ]
  },
  {
   "cell_type": "code",
   "execution_count": null,
   "metadata": {},
   "outputs": [],
   "source": [
    "w = Window.partitionBy('destination_airport_country_name').orderBy(col('count').desc())\n",
    "\n",
    "flights_clean_df.select('destination_airport_country_name', 'destination_airport_name')\\\n",
    ".dropna('any')\\\n",
    ".groupBy('destination_airport_country_name', 'destination_airport_name')\\\n",
    ".count()\\\n",
    ".withColumn('r_number', F.row_number().over(w))\\\n",
    "    .filter(col('r_number') == 1)\\\n",
    "    .drop('r_number')\\\n",
    ".show()"
   ]
  },
  {
   "cell_type": "markdown",
   "metadata": {},
   "source": [
    "##### inbound/outbound"
   ]
  },
  {
   "cell_type": "code",
   "execution_count": null,
   "metadata": {},
   "outputs": [],
   "source": [
    "airports_df = load_original_data(airports_path)\n",
    "airports_df.count()"
   ]
  },
  {
   "cell_type": "code",
   "execution_count": null,
   "metadata": {},
   "outputs": [],
   "source": [
    "airports_df.printSchema()"
   ]
  },
  {
   "cell_type": "code",
   "execution_count": null,
   "metadata": {},
   "outputs": [],
   "source": [
    "inbound_df = flights_clean_df.select(flights_clean_df.destination_airport_name)\\\n",
    "    .groupBy('destination_airport_name')\\\n",
    "    .count()\\\n",
    "    .withColumnRenamed('count', 'inbound')\n",
    "\n",
    "outbound_df = flights_clean_df.select(flights_clean_df.origin_airport_name)\\\n",
    "    .groupBy('origin_airport_name')\\\n",
    "    .count()\\\n",
    "    .withColumnRenamed('count', 'outbound')\n",
    "\n"
   ]
  },
  {
   "cell_type": "code",
   "execution_count": null,
   "metadata": {},
   "outputs": [],
   "source": [
    "in_out_bound_df = inbound_df.join(outbound_df, inbound_df.destination_airport_name == outbound_df.origin_airport_name)\\\n",
    "    .drop(col('origin_airport_name'))\\\n",
    "    .withColumnRenamed('destination_airport_name', 'airport_name')\\\n",
    "    .withColumn('diff', col('inbound') - col('outbound'))\\\n",
    "    .orderBy(col('diff').desc())\n",
    "in_out_bound_df.show()"
   ]
  },
  {
   "cell_type": "markdown",
   "metadata": {},
   "source": [
    "##### By country, avg active flight speed"
   ]
  },
  {
   "cell_type": "code",
   "execution_count": null,
   "metadata": {},
   "outputs": [],
   "source": [
    "flights_clean_df.filter(col('status_icon') == 'green')\\\n",
    ".select('origin_airport_country_name','ground_speed')\\\n",
    "    .groupBy('origin_airport_country_name')\\\n",
    "        .avg('ground_speed')\\\n",
    "            .show()"
   ]
  },
  {
   "cell_type": "code",
   "execution_count": null,
   "metadata": {},
   "outputs": [],
   "source": []
  }
 ],
 "metadata": {
  "kernelspec": {
   "display_name": "Python 3.9.12 ('exaltKata': venv)",
   "language": "python",
   "name": "python3"
  },
  "language_info": {
   "codemirror_mode": {
    "name": "ipython",
    "version": 3
   },
   "file_extension": ".py",
   "mimetype": "text/x-python",
   "name": "python",
   "nbconvert_exporter": "python",
   "pygments_lexer": "ipython3",
   "version": "3.9.12"
  },
  "orig_nbformat": 4,
  "vscode": {
   "interpreter": {
    "hash": "b98b0acb5a2ecc8dcacf4c1b05e7801e4520dc6391994e5e757bc5215b10c77d"
   }
  }
 },
 "nbformat": 4,
 "nbformat_minor": 2
}
