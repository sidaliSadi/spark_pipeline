{
 "cells": [
  {
   "cell_type": "code",
   "execution_count": 1,
   "metadata": {},
   "outputs": [
    {
     "name": "stdout",
     "output_type": "stream",
     "text": [
      "22/09/11 12:24:11 WARN Utils: Your hostname, sasadi resolves to a loopback address: 127.0.1.1; using 10.188.67.52 instead (on interface wlo1)\n",
      "22/09/11 12:24:11 WARN Utils: Set SPARK_LOCAL_IP if you need to bind to another address\n"
     ]
    },
    {
     "name": "stderr",
     "output_type": "stream",
     "text": [
      "Setting default log level to \"WARN\".\n",
      "To adjust logging level use sc.setLogLevel(newLevel). For SparkR, use setLogLevel(newLevel).\n"
     ]
    },
    {
     "name": "stdout",
     "output_type": "stream",
     "text": [
      "22/09/11 12:24:13 WARN NativeCodeLoader: Unable to load native-hadoop library for your platform... using builtin-java classes where applicable\n"
     ]
    }
   ],
   "source": [
    "from src.extract import *\n",
    "from src.transform import *\n",
    "from FlightRadar24.api import FlightRadar24API\n",
    "from pyspark.sql import Window"
   ]
  },
  {
   "cell_type": "code",
   "execution_count": null,
   "metadata": {},
   "outputs": [],
   "source": [
    "not_cleaned_data = '/home/sadi/Bureau/exaltKata/spark_pipeline/data/without_cleaning'\n",
    "cleaned_data = '/home/sadi/Bureau/exaltKata/spark_pipeline/data/clean'\n",
    "flights_path = os.path.join(not_cleaned_data, 'flights.json')\n",
    "airports_path = os.path.join(cleaned_data, 'airports.json')\n",
    "airlines_path = os.path.join(cleaned_data, 'airlines.json')"
   ]
  },
  {
   "cell_type": "code",
   "execution_count": null,
   "metadata": {},
   "outputs": [],
   "source": [
    "fr_api = FlightRadar24API()\n",
    "flights = fr_api.get_flights()\n",
    "#get flights\n",
    "flight_details = get_flight_details(flights, fr_api)\n",
    "save_original_file(flight_details, flights_path)"
   ]
  },
  {
   "cell_type": "code",
   "execution_count": null,
   "metadata": {},
   "outputs": [],
   "source": [
    "#get airports\n",
    "airports = fr_api.get_airports()\n",
    "save_original_file(airports, airports_path)"
   ]
  },
  {
   "cell_type": "code",
   "execution_count": null,
   "metadata": {},
   "outputs": [],
   "source": [
    "#get airlines\n",
    "airlines = fr_api.get_airlines()\n",
    "save_original_file(airlines, airlines_path)"
   ]
  },
  {
   "cell_type": "code",
   "execution_count": null,
   "metadata": {},
   "outputs": [],
   "source": []
  },
  {
   "cell_type": "markdown",
   "metadata": {},
   "source": [
    "### Transform flights DataFrame\n"
   ]
  },
  {
   "cell_type": "code",
   "execution_count": null,
   "metadata": {},
   "outputs": [],
   "source": [
    "flights_df = load_original_data(flights_path)"
   ]
  },
  {
   "cell_type": "code",
   "execution_count": null,
   "metadata": {},
   "outputs": [],
   "source": [
    "flights_clean_df = transform_flights_df(flights_df)"
   ]
  },
  {
   "cell_type": "code",
   "execution_count": null,
   "metadata": {},
   "outputs": [],
   "source": [
    "flights_clean_df.printSchema()"
   ]
  },
  {
   "cell_type": "markdown",
   "metadata": {},
   "source": [
    "##### compagny most active flights in the world"
   ]
  },
  {
   "cell_type": "code",
   "execution_count": null,
   "metadata": {},
   "outputs": [],
   "source": [
    "flights_clean_df.select('airline_short_name', 'status_icon')\\\n",
    "    .filter(F.col(\"status_icon\") == \"green\")\\\n",
    "    .groupBy(F.col('airline_short_name'), F.col('status_icon'))\\\n",
    "    .count()\\\n",
    "    .orderBy(F.col('count').desc())\\\n",
    "    .show(5)"
   ]
  },
  {
   "cell_type": "markdown",
   "metadata": {},
   "source": [
    "##### companies with most regional active flights"
   ]
  },
  {
   "cell_type": "code",
   "execution_count": null,
   "metadata": {},
   "outputs": [],
   "source": [
    "w = Window.partitionBy('airport_country').orderBy(col('count').desc())\n",
    "\n",
    "flights_clean_df.filter((F.col('status_icon') == 'green') & F.col('sameCountry') == True)\\\n",
    "  .select('airline_short_name', 'status_icon',F.col('destination_airport_country_name').alias('airport_country'), 'sameCountry')\\\n",
    "  .groupBy('airport_country', 'airline_short_name')\\\n",
    "  .count()\\\n",
    "  .withColumn( 'max', F.row_number().over(w))\\\n",
    "  .filter(col(\"max\") == 1).drop(\"max\") \\\n",
    "  .show()"
   ]
  },
  {
   "cell_type": "code",
   "execution_count": null,
   "metadata": {},
   "outputs": [],
   "source": []
  },
  {
   "cell_type": "markdown",
   "metadata": {},
   "source": [
    "#### Active flight longest route"
   ]
  },
  {
   "cell_type": "code",
   "execution_count": null,
   "metadata": {},
   "outputs": [],
   "source": [
    "\n",
    "flights_clean_df \\\n",
    "    .filter(F.col(\"status_icon\") == \"green\")\\\n",
    "    .select('aircraft_code', 'airline_short_name', 'distance - km')\\\n",
    "    .distinct()\\\n",
    "    .orderBy(col('distance - km').desc())\\\n",
    "    .show(1)"
   ]
  },
  {
   "cell_type": "markdown",
   "metadata": {},
   "source": [
    "#### Avg distance by country"
   ]
  },
  {
   "cell_type": "code",
   "execution_count": null,
   "metadata": {},
   "outputs": [],
   "source": [
    "flights_clean_df.select('aircraft_code', 'airline_short_name', 'origin_airport_country_name', 'distance - km')\\\n",
    "    .groupBy('origin_airport_country_name')\\\n",
    "    .avg('distance - km')\\\n",
    "    .show()"
   ]
  },
  {
   "cell_type": "markdown",
   "metadata": {},
   "source": [
    "##### Airplane model by country"
   ]
  },
  {
   "cell_type": "code",
   "execution_count": null,
   "metadata": {},
   "outputs": [],
   "source": [
    "# w_ = Window.partitionBy('country_name').orderBy(col('count').desc())\n",
    "w = Window.partitionBy('country_name').orderBy(col('count').desc())\n",
    "\n",
    "flights_clean_df.select(col('origin_airport_country_name').alias('country_name'), 'aircraft_model')\\\n",
    "    .groupBy('country_name', 'aircraft_model')\\\n",
    "    .count()\\\n",
    "    .withColumn('r_number', F.row_number().over(w))\\\n",
    "    .filter(col('r_number') == 1)\\\n",
    "    .drop(col('r_number'))\\\n",
    "    .show()\n"
   ]
  },
  {
   "cell_type": "code",
   "execution_count": null,
   "metadata": {},
   "outputs": [],
   "source": []
  },
  {
   "cell_type": "code",
   "execution_count": null,
   "metadata": {},
   "outputs": [],
   "source": []
  }
 ],
 "metadata": {
  "kernelspec": {
   "display_name": "Python 3.9.12 ('exaltKata': venv)",
   "language": "python",
   "name": "python3"
  },
  "language_info": {
   "codemirror_mode": {
    "name": "ipython",
    "version": 3
   },
   "file_extension": ".py",
   "mimetype": "text/x-python",
   "name": "python",
   "nbconvert_exporter": "python",
   "pygments_lexer": "ipython3",
   "version": "3.9.12"
  },
  "orig_nbformat": 4,
  "vscode": {
   "interpreter": {
    "hash": "b98b0acb5a2ecc8dcacf4c1b05e7801e4520dc6391994e5e757bc5215b10c77d"
   }
  }
 },
 "nbformat": 4,
 "nbformat_minor": 2
}
